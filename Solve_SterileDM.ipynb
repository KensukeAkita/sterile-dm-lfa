{
 "cells": [
  {
   "cell_type": "code",
   "execution_count": 1,
   "id": "b18159d8-fcf8-4042-84f2-4847e23a81e0",
   "metadata": {},
   "outputs": [],
   "source": [
    "import numpy as np\n",
    "import matplotlib.pyplot as plt\n",
    "import scipy as sp\n",
    "from scipy.integrate import solve_ivp\n",
    "from Constants import *\n",
    "from Sterile_Nu_Parameters import *\n",
    "from Momentum_Grid import *\n",
    "from Tolerances import *\n",
    "\n",
    "from DOF import *\n",
    "from System_SterileDM_Prod import System_SterileDM_Prod\n",
    "from Make_Rate_Table import Make_Table\n",
    "from Asy_Redistribution import eqs_redist\n",
    "from Thermo_quantities import Thermo_quantities"
   ]
  },
  {
   "cell_type": "code",
   "execution_count": 2,
   "id": "dceeca1e",
   "metadata": {},
   "outputs": [],
   "source": [
    "#Making table of the reaction rates\n",
    "\n",
    "Gamma_a_Table = np.zeros((ni_Table,nT_Table)) #numbers of momentum and temperature grid\n",
    "Gamma_a_anti_Table = np.zeros((ni_Table,nT_Table))\n",
    "\n",
    "if (flavor == 'e'):\n",
    "\n",
    "    La_ini = Le_ini\n",
    "    \n",
    "elif(flavor == 'mu'):\n",
    "    \n",
    "    La_ini = Lmu_ini\n",
    "    \n",
    "else:\n",
    "    \n",
    "    La_ini = Ltau_ini\n",
    "\n",
    "Gamma_a_Table, Gamma_a_anti_Table = Make_Table(La_ini)"
   ]
  },
  {
   "cell_type": "code",
   "execution_count": 3,
   "id": "1e883a89-7513-4023-9eed-6f768e85a4a8",
   "metadata": {
    "scrolled": true
   },
   "outputs": [],
   "source": [
    "#initial conditions of Density matrix and photon temperature\n",
    "#x: comoving time ,y: comoving momentum\n",
    "\n",
    "f_nus_0 = np.zeros(n)\n",
    "f_nus_anti_0 = np.zeros(n)\n",
    "\n",
    "T0 = 1e4 #MeV\n",
    "\n",
    "La_0 = np.zeros(1)\n",
    "\n",
    "if (flavor == 'e'):\n",
    "\n",
    "    La_0[0] = Le_ini\n",
    "    La_ini = Le_ini\n",
    "    \n",
    "elif(flavor == 'mu'):\n",
    "    \n",
    "    La_0[0] = Lmu_ini\n",
    "    La_ini = Lmu_ini\n",
    "    \n",
    "    \n",
    "else:\n",
    "    \n",
    "    La_0[0] = Ltau_ini\n",
    "    La_ini = Ltau_ini\n",
    "\n",
    "\n",
    "\n",
    "x0 = np.array([0,0,0,0,0])\n",
    "\n",
    "ans0 =  sp.optimize.root(eqs_redist, x0, args = (T0,La_ini), method='hybr',tol=tol_root)  \n",
    "\n",
    "zeta_nue0 = ans0.x[0]\n",
    "zeta_numu0 = ans0.x[1]\n",
    "zeta_nutau0 = ans0.x[2]\n",
    "\n",
    "zeta_e0 = ans0.x[0] - ans0.x[4]\n",
    "zeta_mu0 = ans0.x[1] - ans0.x[4]\n",
    "zeta_tau0 = ans0.x[2] - ans0.x[4]\n",
    "\n",
    "zeta_B0 = ans0.x[3]\n",
    "\n",
    "zeta_Q0 = ans0.x[4]\n",
    "\n",
    "rho0, s0, P0, Delta_rho0, rho_nua0, rho_a0, Del_nua0, Del_a0, Del_nu_total0, Del_c_total0, Del_Q_QCD0 \\\n",
    "          = Thermo_quantities(T0,zeta_nue0,zeta_numu0,zeta_nutau0,zeta_B0,zeta_Q0)\n",
    "\n",
    "#L_over_s = 1.3e-4\n",
    "\n",
    "#s_bar = gs_above120MeV(T_0)*2*np.pi**2/45\n",
    "\n",
    "#L_nua_bar_0[0] = L_over_s*s_bar\n",
    "\n",
    "sys_values_0 = np.concatenate((f_nus_0,f_nus_anti_0,La_0))\n",
    "    \n",
    "T_span = [1e4,3e1] \n",
    "\n",
    "#T_eval = np.linspace(1e4,3e1,100)\n",
    "T_eval = [3e1]\n",
    "\n",
    "argList = [Gamma_a_Table,Gamma_a_anti_Table,s0,ms,Uas]\n",
    "\n",
    "\n",
    "#RK45 or LSODA might be better. #BDF might be better #atolの方が重要\n",
    "sol = solve_ivp(System_SterileDM_Prod,T_span,sys_values_0,t_eval=T_eval,args=argList,method='LSODA',atol=atol_ivp,rtol=rtol_ivp)\n"
   ]
  },
  {
   "cell_type": "code",
   "execution_count": 4,
   "id": "5ac0dd6f",
   "metadata": {
    "scrolled": false
   },
   "outputs": [
    {
     "data": {
      "image/png": "[encoded data removed]",
      "text/plain": [
       "<Figure size 640x480 with 1 Axes>"
      ]
     },
     "metadata": {},
     "output_type": "display_data"
    }
   ],
   "source": [
    "#Evolution of neutrino spectra with a fixed momentum\n",
    "plt.semilogx(sol.t,sol.y[n+20,:],'k,-')\n",
    "plt.show()"
   ]
  },
  {
   "cell_type": "code",
   "execution_count": 5,
   "id": "9d772f11",
   "metadata": {},
   "outputs": [
    {
     "name": "stdout",
     "output_type": "stream",
     "text": [
      "1\n"
     ]
    }
   ],
   "source": [
    "print(len(sol.t))"
   ]
  },
  {
   "cell_type": "code",
   "execution_count": 6,
   "id": "79aee41c",
   "metadata": {},
   "outputs": [
    {
     "data": {
      "text/plain": [
       "30.0"
      ]
     },
     "execution_count": 6,
     "metadata": {},
     "output_type": "execute_result"
    }
   ],
   "source": [
    "l=len(sol.t)\n",
    "\n",
    "sol.t[l-1]"
   ]
  },
  {
   "cell_type": "code",
   "execution_count": 7,
   "id": "221a3097",
   "metadata": {},
   "outputs": [],
   "source": [
    "x0 = np.array([0,0,0,0,0])\n",
    "\n",
    "T0 = 1e4 #MeV\n",
    "\n",
    "ans0 =  sp.optimize.root(eqs_redist, x0, args = (T0,La_ini), method='hybr',tol=tol_root)  \n",
    "\n",
    "zeta_nue0 = ans0.x[0]\n",
    "zeta_numu0 = ans0.x[1]\n",
    "zeta_nutau0 = ans0.x[2]\n",
    "\n",
    "zeta_e0 = ans0.x[0] - ans0.x[4]\n",
    "zeta_mu0 = ans0.x[1] - ans0.x[4]\n",
    "zeta_tau0 = ans0.x[2] - ans0.x[4]\n",
    "\n",
    "zeta_B0 = ans0.x[3]\n",
    "\n",
    "zeta_Q0 = ans0.x[4]\n",
    "\n",
    "rho0, s0, P0, Delta_rho0, rho_nua0, rho_a0, Del_nua0, Del_a0, Del_nu_total0, Del_c_total0, Del_Q_QCD0 \\\n",
    "          = Thermo_quantities(T0,zeta_nue0,zeta_numu0,zeta_nutau0,zeta_B0,zeta_Q0)\n",
    "s_ini = s0\n",
    "\n",
    "x0 = np.array([0,0,0,0,0])\n",
    "\n",
    "Tfin = 3e1\n",
    "Lfin = sol.y[2*n,l-1]\n",
    "\n",
    "ans =  sp.optimize.root(eqs_redist, x0, args = (Tfin,Lfin), method='hybr',tol=tol_root)  \n",
    "\n",
    "zeta_nue = ans.x[0]\n",
    "zeta_numu = ans.x[1]\n",
    "zeta_nutau = ans.x[2]\n",
    "\n",
    "zeta_e = ans.x[0] - ans.x[4]\n",
    "zeta_mu = ans.x[1] - ans.x[4]\n",
    "zeta_tau = ans.x[2] - ans.x[4]\n",
    "\n",
    "zeta_B = ans.x[3]\n",
    "\n",
    "zeta_Q = ans.x[4]\n",
    "\n",
    "rho_fin, s_fin, P_fin, Delta_rho_fin, rho_nua_fin, rho_a_fin, Del_nua_fin, Del_a_fin, Del_nu_total_fin, Del_c_total_fin, Del_Q_QCD_fin \\\n",
    "          = Thermo_quantities(Tfin,zeta_nue,zeta_numu,zeta_nutau,zeta_B,zeta_Q)\n",
    "\n",
    "#rho_fin, s_fin, P_fin, Delta_rhofin = Thermo_quantities(Tfin,zeta_nue,zeta_numu,zeta_nutau,zeta_B,zeta_Q)"
   ]
  },
  {
   "cell_type": "code",
   "execution_count": 8,
   "id": "72135e84",
   "metadata": {},
   "outputs": [
    {
     "data": {
      "image/png": "[encoded data removed]",
      "text/plain": [
       "<Figure size 640x480 with 1 Axes>"
      ]
     },
     "metadata": {},
     "output_type": "display_data"
    }
   ],
   "source": [
    "l = len(sol.t)\n",
    "yy = np.zeros(n)\n",
    "fs = np.zeros(n)\n",
    "\n",
    "for ni in range(n):\n",
    "    \n",
    "    #yy[ni] = y_min*10**(delta*ni)\n",
    "    #dy = y_min*10**(delta*ni+1) - y_min*10**(delta*ni) #あってる?\n",
    "    \n",
    "    #grho_fin, gs_fin, dgrhodT_fin = DOF(1e1)\n",
    "\n",
    "    #grho_ini, gs_ini, dgrhodT_ini = DOF(1e4)\n",
    "    \n",
    "    yy[ni] = (s_fin/s_ini)**(1/3)*y2[ni] \n",
    "    fs[ni] = (s_fin/s_ini)**(2/3)*y2[ni]**2*sol.y[n+ni,l-1]*1e5\n",
    "\n",
    "plt.plot(yy,fs,'g,-')\n",
    "plt.xlim([0, 8])\n",
    "plt.ylim([0, 8])\n",
    "plt.xlabel(r'$y=p/T$',fontsize=14)\n",
    "plt.ylabel(r'$f_{\\bar{\\nu}_s}(\\times 10^5)$',fontsize=14)\n",
    "plt.show()"
   ]
  },
  {
   "cell_type": "code",
   "execution_count": 9,
   "id": "2a9c3624",
   "metadata": {
    "scrolled": false
   },
   "outputs": [
    {
     "data": {
      "image/png": "[encoded data removed]",
      "text/plain": [
       "<Figure size 640x480 with 1 Axes>"
      ]
     },
     "metadata": {},
     "output_type": "display_data"
    }
   ],
   "source": [
    "l = len(sol.t)\n",
    "yy = np.zeros(n)\n",
    "fs = np.zeros(n)\n",
    "\n",
    "for ni in range(n):\n",
    "    #yy[ni] = y_min*10**(delta*ni)\n",
    "    #dy = y_min*10**(delta*ni+1) - y_min*10**(delta*ni) #あってる?\n",
    "    \n",
    "    yy[ni] = (s_fin/s_ini)**(1/3)*y2[ni] \n",
    "    fs[ni] = (s_fin/s_ini)**(2/3)*y2[ni]**2*sol.y[ni,l-1]*1e2\n",
    "\n",
    "plt.plot(yy,fs,'g,-')\n",
    "plt.xlim([0, 8])\n",
    "plt.ylim([0, 0.8])\n",
    "plt.xlabel(r'$y=p/T$',fontsize=14)\n",
    "plt.ylabel(r'$\\frac{p^2}{T^2}f_{\\nu_s}(\\times 10^2)$',fontsize=14)\n",
    "plt.show()"
   ]
  },
  {
   "cell_type": "code",
   "execution_count": 10,
   "id": "206881a6",
   "metadata": {},
   "outputs": [
    {
     "data": {
      "image/png": "[encoded data removed]",
      "text/plain": [
       "<Figure size 640x480 with 1 Axes>"
      ]
     },
     "metadata": {},
     "output_type": "display_data"
    }
   ],
   "source": [
    "#Evolution of asymmetry with a fixed momentum\n",
    "l = len(sol.t)\n",
    "LL = np.zeros(l)\n",
    "\n",
    "for nt in range(l):\n",
    "    \n",
    "    L_tmp = sol.y[2*n,nt]\n",
    "    \n",
    "    \n",
    "    LL[nt] = L_tmp*1e5\n",
    "    \n",
    "\n",
    "\n",
    "\n",
    "plt.semilogx(sol.t,LL,'g,-')\n",
    "#plt.xlim([1e2, 2e2])\n",
    "#plt.ylim([1, 3])\n",
    "plt.xlabel(r'$T$',fontsize=14)\n",
    "plt.ylabel(r'$\\Delta n_{\\rm lepton}/s_{\\rm SM}(\\times 10^5)$',fontsize=14)\n",
    "plt.show()"
   ]
  },
  {
   "cell_type": "code",
   "execution_count": 11,
   "id": "21872fe7",
   "metadata": {},
   "outputs": [
    {
     "data": {
      "image/png": "[encoded data removed]",
      "text/plain": [
       "<Figure size 640x480 with 1 Axes>"
      ]
     },
     "metadata": {},
     "output_type": "display_data"
    }
   ],
   "source": [
    "#Evolution of asymmetry with a fixed momentum\n",
    "l = len(sol.t)\n",
    "LL = np.zeros(l)\n",
    "n_nus = np.zeros(l)\n",
    "\n",
    "\n",
    "for nt in range(l):\n",
    "    \n",
    "    L_tmp = sol.y[2*n,nt]\n",
    "    \n",
    "    \n",
    "    LL[nt] = L_tmp\n",
    "    \n",
    "    for ni in range(n):\n",
    "    \n",
    "        y = y2[ni]\n",
    "        dy = dy2[ni]\n",
    "        \n",
    "        n_nus[nt] += dy*y**2*(sol.y[ni,nt] - sol.y[ni+n,nt])\n",
    "            \n",
    "    n_nus[nt] *= 1/s_ini*1/(2*np.pi**2)\n",
    "    \n",
    "    \n",
    "    LL[nt] += n_nus[nt]\n",
    "    \n",
    "\n",
    "\n",
    "\n",
    "plt.semilogx(sol.t,LL,'g,-')\n",
    "#plt.xlim([1e2, 2e2])\n",
    "#plt.ylim([7, 10])\n",
    "plt.xlabel(r'$T$',fontsize=14)\n",
    "plt.ylabel(r'$\\Delta n_{\\rm lepton}/s_{\\rm SM}(\\times 10^5)$',fontsize=14)\n",
    "plt.show()"
   ]
  },
  {
   "cell_type": "code",
   "execution_count": 12,
   "id": "cb4ebc76",
   "metadata": {
    "scrolled": false
   },
   "outputs": [
    {
     "data": {
      "image/png": "[encoded data removed]",
      "text/plain": [
       "<Figure size 640x480 with 1 Axes>"
      ]
     },
     "metadata": {},
     "output_type": "display_data"
    }
   ],
   "source": [
    "#Evolution of abundance of sterile nu\n",
    "l = len(sol.t)\n",
    "n_nus = np.zeros(l)\n",
    "\n",
    "\n",
    "for nt in range(l):\n",
    "\n",
    "    \n",
    "    for ni in range(n):\n",
    "        \n",
    "        y = y2[ni]\n",
    "        dy = dy2[ni]\n",
    "        \n",
    "        n_nus[nt] += dy*y**2*(sol.y[ni,nt] + sol.y[ni+n,nt])\n",
    "        \n",
    "    n_nus[nt] *= 1/s_ini*1/(2*np.pi**2)\n",
    "    \n",
    "\n",
    "\n",
    "plt.plot(sol.t,n_nus,'k,-')\n",
    "#plt.plot(sol.y[2*n+1,:],n_nus,'k,-',linestyle='None')\n",
    "plt.xscale('log')\n",
    "plt.yscale('log')\n",
    "#plt.xlim([1e2, 1e3])\n",
    "plt.ylim([1e-6, 1e-4])\n",
    "plt.show()"
   ]
  },
  {
   "cell_type": "code",
   "execution_count": 13,
   "id": "4112a580",
   "metadata": {},
   "outputs": [
    {
     "name": "stdout",
     "output_type": "stream",
     "text": [
      "0.05293254091114134\n"
     ]
    }
   ],
   "source": [
    "#DM abundance\n",
    "\n",
    "l = len(sol.t)\n",
    "\n",
    "n_nus = 0\n",
    "\n",
    "for ni in range(n):\n",
    "    \n",
    "    #y = y_min*10**(delta*ni)\n",
    "    #dy = y_min*10**(delta*ni) - y_min*10**(delta*(ni-1)) #あってる?\n",
    "    \n",
    "    #dy = (y_max-y_min)/(n-1)\n",
    "    #y = y_min + dy*ni\n",
    "    \n",
    "    y = y2[ni]\n",
    "    dy = dy2[ni]\n",
    "    \n",
    "    n_nus += dy*y**2*(sol.y[ni,l-1] + sol.y[ni+n,l-1])\n",
    "    \n",
    "n_nus *= 1/(2*np.pi**2)*(s_fin/s_ini)\n",
    "\n",
    "T = sol.t[l-1]\n",
    "\n",
    "gs = gs_below120MeV(T)\n",
    "\n",
    "gs_0 = gs_below120MeV(1e-2)\n",
    "\n",
    "s_0 = 2*np.pi**2/45*gs_0\n",
    "\n",
    "T0 = 2.73/11600*1e-6 #K->eV->MeV\n",
    "\n",
    "h=0.673\n",
    "\n",
    "rho_cr0 = 1.878*1e-29*h**2 #g cm^-3\n",
    "\n",
    "rho_cr0 *= (0.511*3.862*1e-11)**3 # g cm^-3 -> g MeV^3\n",
    "rho_cr0 *= 0.511/9.109*1e28 #g MeV^3->MeV^4\n",
    "\n",
    "Omega_nus = ms*T0**3*(s_0/s_fin)/rho_cr0*n_nus\n",
    "\n",
    "\n",
    "print(Omega_nus)"
   ]
  },
  {
   "cell_type": "code",
   "execution_count": 14,
   "id": "09aa3684",
   "metadata": {},
   "outputs": [
    {
     "name": "stdout",
     "output_type": "stream",
     "text": [
      "0.08362826336262234\n"
     ]
    }
   ],
   "source": [
    "#DM abundance\n",
    "\n",
    "l = len(sol.t)\n",
    "\n",
    "n_nus = 0\n",
    "\n",
    "for ni in range(n):\n",
    "    \n",
    "    #y = y_min*10**(delta*ni)\n",
    "    #dy = y_min*10**(delta*ni) - y_min*10**(delta*(ni-1)) #あってる?\n",
    "    \n",
    "    #dy = (y_max-y_min)/(n-1)\n",
    "    #y = y_min + dy*ni\n",
    "    \n",
    "    y = y2[ni]\n",
    "    dy = dy2[ni]\n",
    "    \n",
    "    n_nus += dy*y**2*(sol.y[ni,l-1] + sol.y[ni+n,l-1])\n",
    "    \n",
    "n_nus *= 1/(2*np.pi**2)*(s_fin/s_ini)\n",
    "\n",
    "T = sol.t[l-1]\n",
    "\n",
    "gs = gs_below120MeV(T)\n",
    "\n",
    "gs_0 = gs_below120MeV(1e-2)\n",
    "\n",
    "s_0 = 2*np.pi**2/45*gs_0\n",
    "\n",
    "T0 = 2.73/11600*1e-6 #K->eV->MeV\n",
    "\n",
    "h=0.673\n",
    "\n",
    "rho_cr0 = 1.878*1e-29*h**2 #g cm^-3\n",
    "\n",
    "rho_cr0 *= (0.511*3.862*1e-11)**3 # g cm^-3 -> g MeV^3\n",
    "rho_cr0 *= 0.511/9.109*1e28 #g MeV^3->MeV^4\n",
    "\n",
    "Omega_nus = ms*T0**3*(s_0/s_fin)/rho_cr0*n_nus\n",
    "\n",
    "\n",
    "print(Omega_nus)"
   ]
  },
  {
   "cell_type": "code",
   "execution_count": null,
   "id": "d9e38c72",
   "metadata": {},
   "outputs": [],
   "source": [
    "#n=200 0.733"
   ]
  },
  {
   "cell_type": "code",
   "execution_count": 12,
   "id": "5daa795e",
   "metadata": {},
   "outputs": [],
   "source": [
    "f_nus = np.ones(1)\n",
    "f_nus_anti = np.ones(1)\n",
    "\n",
    "rho_nus_tmp = dy2*y2**2*(y2**2 + ms**2)**(1/2)*(f_nus + f_nus_anti)\n",
    "\n",
    "rho_nus =  1/(2*np.pi**2)*sp.integrate.trapz(dy2*y2**2*(y2**2 + ms**2)**(1/2)*(f_nus + f_nus_anti))"
   ]
  },
  {
   "cell_type": "code",
   "execution_count": 15,
   "id": "2c2efded",
   "metadata": {},
   "outputs": [
    {
     "name": "stdout",
     "output_type": "stream",
     "text": [
      "20.0\n"
     ]
    }
   ],
   "source": [
    "print(y2[99])"
   ]
  },
  {
   "cell_type": "code",
   "execution_count": null,
   "id": "38e32a22",
   "metadata": {},
   "outputs": [],
   "source": []
  }
 ],
 "metadata": {
  "kernelspec": {
   "display_name": "Python 3 (ipykernel)",
   "language": "python",
   "name": "python3"
  },
  "language_info": {
   "codemirror_mode": {
    "name": "ipython",
    "version": 3
   },
   "file_extension": ".py",
   "mimetype": "text/x-python",
   "name": "python",
   "nbconvert_exporter": "python",
   "pygments_lexer": "ipython3",
   "version": "3.11.7"
  }
 },
 "nbformat": 4,
 "nbformat_minor": 5
}
